{
  "nbformat": 4,
  "nbformat_minor": 0,
  "metadata": {
    "colab": {
      "provenance": [],
      "authorship_tag": "ABX9TyO10kp6nQF5bseienopodyd",
      "include_colab_link": true
    },
    "kernelspec": {
      "name": "python3",
      "display_name": "Python 3"
    },
    "language_info": {
      "name": "python"
    }
  },
  "cells": [
    {
      "cell_type": "markdown",
      "metadata": {
        "id": "view-in-github",
        "colab_type": "text"
      },
      "source": [
        "<a href=\"https://colab.research.google.com/github/Harsh28-raj/mlcoe_pro_task_2/blob/main/task_2_part_3.ipynb\" target=\"_parent\"><img src=\"https://colab.research.google.com/assets/colab-badge.svg\" alt=\"Open In Colab\"/></a>"
      ]
    },
    {
      "cell_type": "code",
      "execution_count": 7,
      "metadata": {
        "id": "AbyVYFV3o-_v"
      },
      "outputs": [],
      "source": [
        "import pandas as pd\n",
        "from sklearn.datasets import load_iris\n",
        "from sklearn.model_selection import train_test_split\n",
        "from sklearn.preprocessing import StandardScaler\n",
        "from sklearn.svm import SVC\n",
        "from sklearn.metrics import accuracy_score\n",
        "\n"
      ]
    },
    {
      "cell_type": "code",
      "source": [
        "# Load the Iris dataset\n",
        "iris = load_iris()\n",
        "X = pd.DataFrame(iris.data, columns=iris.feature_names)\n",
        "y = iris.target"
      ],
      "metadata": {
        "id": "4faEzdUbJP_q"
      },
      "execution_count": 8,
      "outputs": []
    },
    {
      "cell_type": "code",
      "source": [
        "# Split the data first to prevent data leakage\n",
        "X_train, X_test, y_train, y_test = train_test_split(X, y, test_size=0.2, random_state=42)"
      ],
      "metadata": {
        "id": "PAmHgQ7TJT8C"
      },
      "execution_count": 9,
      "outputs": []
    },
    {
      "cell_type": "code",
      "source": [
        "# Apply feature scaling\n",
        "scaler = StandardScaler()\n",
        "X_train_scaled = scaler.fit_transform(X_train)\n",
        "X_test_scaled = scaler.transform(X_test)\n",
        "\n",
        "print(\"Data Loaded, Split, and Scaled\")\n"
      ],
      "metadata": {
        "id": "_6ZxD_7fJXV2",
        "colab": {
          "base_uri": "https://localhost:8080/"
        },
        "outputId": "55ea65d5-ccf2-4fe6-8a74-cf84cb7d57b3"
      },
      "execution_count": 10,
      "outputs": [
        {
          "output_type": "stream",
          "name": "stdout",
          "text": [
            "Data Loaded, Split, and Scaled\n"
          ]
        }
      ]
    },
    {
      "cell_type": "code",
      "source": [
        "#Model Training (Experimentation)\n",
        "\n",
        "#Train an SVM with a LINEAR kernel\n",
        "# This model tries to separate the classes with a straight line or flat plane.\n",
        "print(\"Training Linear SVM...\")\n",
        "linear_svm = SVC(kernel='linear', random_state=42)\n",
        "linear_svm.fit(X_train_scaled, y_train)\n",
        "print(\"Linear SVM Training Complete.\")\n",
        "print(\"-\" * 40)\n",
        "\n",
        "# --- Train an SVM with an RBF kernel ---\n",
        "# This model can create complex, curved boundaries to separate the classes.\n",
        "print(\"Training RBF SVM...\")\n",
        "rbf_svm = SVC(kernel='rbf', random_state=42)\n",
        "rbf_svm.fit(X_train_scaled, y_train)\n",
        "print(\"RBF SVM Training Complete.\")\n",
        "print(\"-\" * 40)"
      ],
      "metadata": {
        "id": "4_dDO8vkJcCr",
        "colab": {
          "base_uri": "https://localhost:8080/"
        },
        "outputId": "f5b904d7-1773-4c86-9ccf-ac25a7c44e06"
      },
      "execution_count": 11,
      "outputs": [
        {
          "output_type": "stream",
          "name": "stdout",
          "text": [
            "Training Linear SVM...\n",
            "Linear SVM Training Complete.\n",
            "----------------------------------------\n",
            "Training RBF SVM...\n",
            "RBF SVM Training Complete.\n",
            "----------------------------------------\n"
          ]
        }
      ]
    },
    {
      "cell_type": "code",
      "source": [
        "# --- Step 3: Evaluation ---\n",
        "# Evaluate the LINEAR kernel model\n",
        "linear_pred = linear_svm.predict(X_test_scaled)\n",
        "linear_accuracy = accuracy_score(y_test, linear_pred)\n",
        "\n",
        "# Evaluate the RBF kernel model\n",
        "rbf_pred = rbf_svm.predict(X_test_scaled)\n",
        "rbf_accuracy = accuracy_score(y_test, rbf_pred)\n",
        "\n",
        "print(\"--- Model Performance --- 🚀\")\n",
        "print(f\"Accuracy of SVM with Linear Kernel: {linear_accuracy:.2f} ({linear_accuracy:.0%})\")\n",
        "print(f\"Accuracy of SVM with RBF Kernel:   {rbf_accuracy:.2f} ({rbf_accuracy:.0%})\")\n",
        "print(\"-\" * 40)"
      ],
      "metadata": {
        "id": "EqB9SYCTJgMx",
        "colab": {
          "base_uri": "https://localhost:8080/"
        },
        "outputId": "ba16e3b0-e453-425d-c947-0e23c5fe5373"
      },
      "execution_count": 12,
      "outputs": [
        {
          "output_type": "stream",
          "name": "stdout",
          "text": [
            "--- Model Performance --- 🚀\n",
            "Accuracy of SVM with Linear Kernel: 0.97 (97%)\n",
            "Accuracy of SVM with RBF Kernel:   1.00 (100%)\n",
            "----------------------------------------\n"
          ]
        }
      ]
    },
    {
      "cell_type": "code",
      "source": [],
      "metadata": {
        "id": "Mx5p01KupIF8"
      },
      "execution_count": 12,
      "outputs": []
    }
  ]
}